{
  "nbformat": 4,
  "nbformat_minor": 0,
  "metadata": {
    "colab": {
      "name": "Assignment1_Q3.ipynb",
      "provenance": []
    },
    "kernelspec": {
      "name": "python3",
      "display_name": "Python 3"
    },
    "language_info": {
      "name": "python"
    }
  },
  "cells": [
    {
      "cell_type": "code",
      "execution_count": 1,
      "metadata": {
        "id": "mA1yAEsG7DNC"
      },
      "outputs": [],
      "source": [
        "#library imports\n",
        "import os\n",
        "import pandas as pd\n",
        "import numpy as np\n",
        "\n",
        "import cv2\n",
        "from PIL import Image\n",
        "from pathlib import Path\n",
        "import matplotlib.pyplot as plt\n",
        "import xml.etree.ElementTree as ET"
      ]
    },
    {
      "cell_type": "code",
      "source": [
        "from google.colab import drive\n",
        "drive.mount('/content/drive')"
      ],
      "metadata": {
        "colab": {
          "base_uri": "https://localhost:8080/"
        },
        "id": "7kavlNZ87H3G",
        "outputId": "8c0ac384-6d88-4184-d54b-3a3c694cdc15"
      },
      "execution_count": 2,
      "outputs": [
        {
          "output_type": "stream",
          "name": "stdout",
          "text": [
            "Mounted at /content/drive\n"
          ]
        }
      ]
    },
    {
      "cell_type": "code",
      "source": [
        "path_img = Path('/content/drive/MyDrive/Q3/images')\n",
        "path_ann = Path('/content/drive/MyDrive/Q3/annotations')"
      ],
      "metadata": {
        "id": "aSH9tb3U7Nib"
      },
      "execution_count": 5,
      "outputs": []
    },
    {
      "cell_type": "code",
      "source": [
        "def filelist(root, file_type):\n",
        "    return [os.path.join(directory_path, f) for directory_path, directory_name, files in os.walk(root) for f in files if f.endswith(file_type)]\n",
        "\n",
        "def Img_df (path_ann):\n",
        "    annotations = filelist(path_ann, '.xml')\n",
        "    ann_list = []\n",
        "    for path_ann in annotations:\n",
        "        root = ET.parse(path_ann).getroot()\n",
        "        ann = {}\n",
        "        ann['filename'] = Path(str(path_img) + '/'+ root.find(\"./filename\").text)\n",
        "        ann['xmin'] = int(root.find(\"./object/bndbox/xmin\").text)\n",
        "        ann['ymin'] = int(root.find(\"./object/bndbox/ymin\").text)\n",
        "        ann['xmax'] = int(root.find(\"./object/bndbox/xmax\").text)\n",
        "        ann['ymax'] = int(root.find(\"./object/bndbox/ymax\").text)\n",
        "        ann_list.append(ann)\n",
        "    return pd.DataFrame(ann_list)"
      ],
      "metadata": {
        "id": "WYq0ucII7OaX"
      },
      "execution_count": 8,
      "outputs": []
    },
    {
      "cell_type": "code",
      "source": [
        "df_train = Img_df(path_ann)"
      ],
      "metadata": {
        "id": "NZiz-9Wy7Q9U"
      },
      "execution_count": 9,
      "outputs": []
    },
    {
      "cell_type": "code",
      "source": [
        "#Reading an image\n",
        "def read_image(path):\n",
        "    return cv2.cvtColor(cv2.imread(str(path)), cv2.COLOR_BGR2RGB)"
      ],
      "metadata": {
        "id": "CzQGY4GT7TZh"
      },
      "execution_count": 10,
      "outputs": []
    },
    {
      "cell_type": "code",
      "source": [
        "def create_mask(bb, x):\n",
        "    \"\"\"Creates a mask for the bounding box of same shape as image\"\"\"\n",
        "    rows,cols,*_ = x.shape\n",
        "    Y = np.zeros((rows, cols))\n",
        "    bb = bb.astype(np.int)\n",
        "    Y[bb[0]:bb[2], bb[1]:bb[3]] = 1.\n",
        "    return Y\n",
        "\n",
        "def mask_to_bb(Y):\n",
        "    \"\"\"Convert mask Y to a bounding box, assumes 0 as background nonzero object\"\"\"\n",
        "    cols, rows = np.nonzero(Y)\n",
        "    if len(cols)==0: \n",
        "        return np.zeros(4, dtype=np.float32)\n",
        "    top_row = np.min(rows)\n",
        "    left_col = np.min(cols)\n",
        "    bottom_row = np.max(rows)\n",
        "    right_col = np.max(cols)\n",
        "    return np.array([left_col, top_row, right_col, bottom_row], dtype=np.float32)\n",
        "\n",
        "def create_bb_array(x):\n",
        "    \"\"\"Generates bounding box array from a train_df row\"\"\"\n",
        "    return np.array([x[2],x[1],x[4],x[3]])"
      ],
      "metadata": {
        "id": "31nkCHd17V7S"
      },
      "execution_count": 14,
      "outputs": []
    },
    {
      "cell_type": "code",
      "source": [
        "def resize_image_bb(read_path,write_path,bb,sz):\n",
        "    \"\"\"Resize an image and its bounding box and write image to new path\"\"\"\n",
        "    im = read_image(read_path)\n",
        "    im_resized = cv2.resize(im, (int(1.49*sz), sz))\n",
        "    Y_resized = cv2.resize(create_mask(bb, im), (int(1.49*sz), sz))\n",
        "    new_path = str(write_path/read_path.parts[-1])\n",
        "    cv2.imwrite(new_path, cv2.cvtColor(im_resized, cv2.COLOR_RGB2BGR))\n",
        "    return new_path, mask_to_bb(Y_resized)"
      ],
      "metadata": {
        "id": "sVYM25aF7Zp2"
      },
      "execution_count": 12,
      "outputs": []
    },
    {
      "cell_type": "code",
      "source": [
        "#Populating Training DF with new paths and bounding boxes\n",
        "new_paths = []\n",
        "new_bbs = []\n",
        "train_path_resized = Path('/content/drive/MyDrive/Q3/images_resized')\n",
        "for index, row in df_train.iterrows():\n",
        "    new_path,new_bb = resize_image_bb(row['filename'], train_path_resized, create_bb_array(row.values),30)\n",
        "    new_paths.append(new_path)\n",
        "    new_bbs.append(new_bb)\n",
        "df_train['new_path'] = new_paths\n",
        "df_train['new_bb'] = new_bbs"
      ],
      "metadata": {
        "colab": {
          "base_uri": "https://localhost:8080/"
        },
        "id": "I5jsRbg17ahv",
        "outputId": "36a8b45d-e37d-4dd0-8259-eece07b9414e"
      },
      "execution_count": 15,
      "outputs": [
        {
          "output_type": "stream",
          "name": "stderr",
          "text": [
            "/usr/local/lib/python3.7/dist-packages/ipykernel_launcher.py:5: DeprecationWarning: `np.int` is a deprecated alias for the builtin `int`. To silence this warning, use `int` by itself. Doing this will not modify any behavior and is safe. When replacing `np.int`, you may wish to use e.g. `np.int64` or `np.int32` to specify the precision. If you wish to review your current use, check the release note link for additional information.\n",
            "Deprecated in NumPy 1.20; for more details and guidance: https://numpy.org/devdocs/release/1.20.0-notes.html#deprecations\n",
            "  \"\"\"\n"
          ]
        }
      ]
    },
    {
      "cell_type": "code",
      "source": [
        "X=[]\n",
        "for i in range(0, 877):\n",
        "  im = read_image(df_train.values[i][5])\n",
        "  im_v=im.flatten()\n",
        "  X.append(im_v)\n",
        "X=np.array(X)"
      ],
      "metadata": {
        "id": "CzIJ6p7i7c5v"
      },
      "execution_count": 16,
      "outputs": []
    },
    {
      "cell_type": "code",
      "source": [
        "Y = df_train['new_bb'].to_numpy().copy()\n",
        "Z =[]\n",
        "for i in range(0,877):\n",
        "  Z.append(Y[i])\n",
        "Z= np.array(Z)\n",
        "Y = Z"
      ],
      "metadata": {
        "id": "YA7cxpC77v3r"
      },
      "execution_count": 17,
      "outputs": []
    },
    {
      "cell_type": "code",
      "source": [
        "def MSE(X, Y, w_opt):\n",
        "  Y_ = np.matmul(X, w_opt)\n",
        "  mse = 0\n",
        "  for i in range(0,877):\n",
        "    mse += np.linalg.norm(Y_-Y)\n",
        "  return mse"
      ],
      "metadata": {
        "id": "Rr5Po1ZL8FBF"
      },
      "execution_count": 18,
      "outputs": []
    },
    {
      "cell_type": "code",
      "source": [
        "def MAE(X, Y, w_opt):\n",
        "  Y_ = np.matmul(X, w_opt)\n",
        "  mae = 0\n",
        "  for i in range(0,877):\n",
        "    mae += np.sum(np.absolute(Y_-Y))\n",
        "  mae = mae /(877*4)\n",
        "  return mae"
      ],
      "metadata": {
        "id": "3LTeBI9t8H4W"
      },
      "execution_count": 19,
      "outputs": []
    },
    {
      "cell_type": "code",
      "source": [
        "L = []\n",
        "MSErr = []\n",
        "MAErr = []\n",
        "# Ridge Regression \n",
        "for lam in range(0, 10):\n",
        "  w_opt= np.matmul(np.linalg.pinv(np.matmul(X.T,X) - lam * np.eye(3960)),np.matmul(X.T,Y))\n",
        "  mse = MSE(X, Y, w_opt)\n",
        "  mae = MAE(X, Y, w_opt)\n",
        "  L.append(lam)\n",
        "  MSErr.append(mse)\n",
        "  MAErr.append(mae)\n",
        "  print('lambda:',lam, 'MSE:', mse,'MSA:', mae)\n",
        "\n",
        "\n",
        "plt.plot(MSErr)\n",
        "plt.plot(MAErr)\n",
        "  \n",
        "# Function add a legend  \n",
        "plt.legend([\"MSE\", \"MAE\"], loc =\"lower right\")\n",
        "  \n",
        "# function to show the plot\n",
        "plt.show()"
      ],
      "metadata": {
        "colab": {
          "base_uri": "https://localhost:8080/",
          "height": 449
        },
        "id": "AlAeA5WS8KEk",
        "outputId": "a9158997-de5c-4939-8845-faee0dff3937"
      },
      "execution_count": 20,
      "outputs": [
        {
          "output_type": "stream",
          "name": "stdout",
          "text": [
            "lambda: 0 MSE: 747400675614.892 MSA: 9517792056.750782\n",
            "lambda: 1 MSE: 590676429556.0206 MSA: 7564945302.390932\n",
            "lambda: 2 MSE: 709854789492.7926 MSA: 9373196661.69824\n",
            "lambda: 3 MSE: 2276868619775.118 MSA: 30105215224.608395\n",
            "lambda: 4 MSE: 1559345213528.404 MSA: 20613926994.884335\n",
            "lambda: 5 MSE: 9480044854349.842 MSA: 121492670112.29715\n",
            "lambda: 6 MSE: 443105770837.3673 MSA: 5686933126.45988\n",
            "lambda: 7 MSE: 389139259597.2407 MSA: 4955646213.344728\n",
            "lambda: 8 MSE: 15985540276914.688 MSA: 193561798780.90546\n",
            "lambda: 9 MSE: 293388990367.8625 MSA: 3774352794.876496\n"
          ]
        },
        {
          "output_type": "display_data",
          "data": {
            "image/png": "[encoded data removed]",
            "text/plain": [
              "<Figure size 432x288 with 1 Axes>"
            ]
          },
          "metadata": {
            "needs_background": "light"
          }
        }
      ]
    }
  ]
}